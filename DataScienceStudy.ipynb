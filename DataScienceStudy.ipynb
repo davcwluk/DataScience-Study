{
  "nbformat": 4,
  "nbformat_minor": 0,
  "metadata": {
    "colab": {
      "provenance": []
    },
    "kernelspec": {
      "name": "python3",
      "display_name": "Python 3"
    },
    "language_info": {
      "name": "python"
    }
  },
  "cells": [
    {
      "cell_type": "markdown",
      "source": [
        "Problem\n",
        "\n",
        "\n",
        "Write a function that simulates a 7-sided die roll using a 6-sided die. You will need to show that the outcomes of the 7-sided die from your function are equally likely by generating a simulation with 10,000 trials of the function call.\n",
        "\n",
        "Output a list of proportions with the first element array representing side 1 and the last element representing side 7. Round the proportions to three decimal places.\n",
        "\n",
        "You may use the random.randint(1, 6) from the random library to roll a 6-sided die, but do not use random.randint(1, 7)."
      ],
      "metadata": {
        "id": "LBbJ3q9aw_BB"
      }
    },
    {
      "cell_type": "code",
      "source": [
        "# Output: [0.137, 0.146, 0.144, 0.146, 0.138, 0.142, 0.148]"
      ],
      "metadata": {
        "id": "zsl1HpUJxGiL"
      },
      "execution_count": 3,
      "outputs": []
    },
    {
      "cell_type": "code",
      "source": [
        "import random\n",
        "\n",
        "# Set the random seed\n",
        "random.seed(123)\n",
        "\n",
        "# Input:\n",
        "trials = 100000 # 10,000 trials of the function that simulates a 7-sided die\n",
        "\n",
        "result = {\n",
        "    (1, 1): 1,\n",
        "    (1, 2): 2,\n",
        "    (1, 3): 3,\n",
        "    (1, 4): 4,\n",
        "    (1, 5): 5,\n",
        "    (1, 6): 6,\n",
        "    (2, 1): 7,\n",
        "}\n",
        "\n",
        "def six_sided_die():\n",
        "  return random.randint(1, 6)\n",
        "\n",
        "def seven_sided_die():\n",
        "  while True:\n",
        "    # Roll twice\n",
        "    roll_1 = six_sided_die()\n",
        "    roll_2 = six_sided_die()\n",
        "    try:\n",
        "      return result[(roll_1, roll_2)]\n",
        "    except:\n",
        "      return seven_sided_die()\n",
        "\n",
        "counts = [0] * 7\n",
        "\n",
        "for i in range(trials):\n",
        "  # Roll a die\n",
        "  outcome = seven_sided_die()\n",
        "  # Update count based on the outcome\n",
        "  counts[outcome - 1] += 1\n",
        "\n",
        "# compute proportion\n",
        "# List comprehension to create a list of proportions, rounding each value to 3 decimal places\n",
        "proportion = [round(c / trials, 3) for c in counts]\n",
        "proportion"
      ],
      "metadata": {
        "colab": {
          "base_uri": "https://localhost:8080/"
        },
        "id": "hW_30g9Wxq2E",
        "outputId": "491573b3-5d02-4082-9576-51cb47a62227"
      },
      "execution_count": 9,
      "outputs": [
        {
          "output_type": "execute_result",
          "data": {
            "text/plain": [
              "[0.142, 0.143, 0.143, 0.143, 0.143, 0.143, 0.143]"
            ]
          },
          "metadata": {},
          "execution_count": 9
        }
      ]
    },
    {
      "cell_type": "markdown",
      "source": [
        "Problem\n",
        "\n",
        "\n",
        "What does the 95% confidence interval mean? Suppose that the distribution of a population is normal with a mean of 100 and standard deviation of 10. How would you write a simulation that demonstrates that the 95% confidence interval of the mean contains the true mean about 95% of the time?\n",
        "\n",
        "You may use the following code to get started."
      ],
      "metadata": {
        "id": "eoCey9dn3ewn"
      }
    },
    {
      "cell_type": "code",
      "source": [
        "# Import libraries\n",
        "import numpy as np\n",
        "import scipy.stats as sci\n",
        "\n",
        "# Set the random seed\n",
        "np.random.seed(111)"
      ],
      "metadata": {
        "id": "kcX40D493eZq"
      },
      "execution_count": 10,
      "outputs": []
    },
    {
      "cell_type": "code",
      "source": [
        "# Set the simulation parameters\n",
        "population_mean = 100\n",
        "population_std = 10\n",
        "sample_size = 100\n",
        "num_samples = 1000\n",
        "alpha = 0.05\n",
        "\n",
        "# Run simulation\n",
        "mean_in_interval_counter = 0 # Count the number of times that population mean is on the CI interval\n",
        "for i in range (num_samples):\n",
        "  # Sample 100 observations from a normal distribution\n",
        "  observation = np.random.normal(population_mean, population_std, sample_size)\n",
        "  # Compute the sample mean\n",
        "  sample_mean = np.mean(observation)\n",
        "  # Compute the sample standard error\n",
        "  standard_error = sci.sem(observation)\n",
        "  # Compute the confidence interval\n",
        "  lower, upper = sci.t.interval(1-alpha, sample_size-1, sample_mean, standard_error)\n",
        "  # Count the number of instances within the bound\n",
        "  if lower < population_mean < upper:\n",
        "    mean_in_interval_counter += 1\n",
        "\n",
        "# Generate the proportion of the times that the population mean is in the CI interval\n",
        "proportion = mean_in_interval_counter / num_samples\n",
        "print(f'Based on a simulation {num_samples} trials,\\n'\n",
        "  f'the true population mean, {population_mean},\\n'\n",
        "  f'is found in the {1-alpha} confidence interval about {proportion*100}% of the time.\\n')"
      ],
      "metadata": {
        "colab": {
          "base_uri": "https://localhost:8080/"
        },
        "id": "jeXTONKr3q62",
        "outputId": "8afe9565-f6c9-44a5-ca5d-75e302b57fc0"
      },
      "execution_count": 22,
      "outputs": [
        {
          "output_type": "stream",
          "name": "stdout",
          "text": [
            "Based on a simulation 1000 trials,\n",
            "the true population mean, 100,\n",
            "is found in the 0.95 confidence interval about 95.39999999999999% of the time.\n",
            "\n"
          ]
        }
      ]
    },
    {
      "cell_type": "markdown",
      "source": [
        "Problem\n",
        "\n",
        "\n",
        "Write a code that simulates the Central Limit Theorem (CLT). What does CLT mean?\n",
        "\n",
        "Using Numpy, how would you simulate CLT from any population distribution of your choice? <br>\n",
        "\n",
        "You may use the following code to get started on the problem."
      ],
      "metadata": {
        "id": "-DsXjUEb-QlB"
      }
    },
    {
      "cell_type": "code",
      "source": [
        "# Import libraries\n",
        "import numpy as np\n",
        "import matplotlib.pyplot as plt\n",
        "\n",
        "# Set the random seed\n",
        "np.random.seed(123)"
      ],
      "metadata": {
        "id": "oB8ni9Qm-QVT"
      },
      "execution_count": 23,
      "outputs": []
    },
    {
      "cell_type": "code",
      "source": [
        "# Define the population distrubution first, an uniform one will be used as example\n",
        "population = np.random.uniform(low=0, high=100, size=10000)\n",
        "\n",
        "# Define the sample size and number of samples\n",
        "sample_size = 100\n",
        "num_samples = 1000\n",
        "\n",
        "# Calculate the means of 1000(num_samples) samples of size 100(sample_size)\n",
        "sample_means = [np.mean(np.random.choice(population, sample_size)) for i in range(num_samples)]\n",
        "\n",
        "# Plot the histogram of the distribution of sample means\n",
        "plt.hist(sample_means, bins=50, density=True)\n",
        "plt.show()"
      ],
      "metadata": {
        "colab": {
          "base_uri": "https://localhost:8080/",
          "height": 430
        },
        "id": "TM8QuheS-V7Q",
        "outputId": "02766b4a-87e7-4cd1-aa4e-ec94295bc2c0"
      },
      "execution_count": 28,
      "outputs": [
        {
          "output_type": "display_data",
          "data": {
            "text/plain": [
              "<Figure size 640x480 with 1 Axes>"
            ],
            "image/png": "[encoded data removed]"
          },
          "metadata": {}
        }
      ]
    }
  ]
}